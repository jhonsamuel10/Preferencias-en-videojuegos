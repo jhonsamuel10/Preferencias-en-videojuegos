{
 "cells": [
  {
   "cell_type": "code",
   "execution_count": 2,
   "metadata": {
    "tags": [
     "e5c1f0c2-db9f-43a0-99b9-4875c52427e8"
    ]
   },
   "outputs": [],
   "source": [
    "import pandas as pd\n",
    "from matplotlib import pyplot as plt\n",
    "from scipy import stats as st \n",
    "\n"
   ]
  },
  {
   "cell_type": "code",
   "execution_count": 3,
   "metadata": {},
   "outputs": [],
   "source": [
    "data_video= pd.read_csv('/datasets/games.csv')"
   ]
  },
  {
   "cell_type": "code",
   "execution_count": 4,
   "metadata": {},
   "outputs": [
    {
     "name": "stdout",
     "output_type": "stream",
     "text": [
      "<class 'pandas.core.frame.DataFrame'>\n",
      "RangeIndex: 16715 entries, 0 to 16714\n",
      "Data columns (total 11 columns):\n",
      " #   Column           Non-Null Count  Dtype  \n",
      "---  ------           --------------  -----  \n",
      " 0   Name             16713 non-null  object \n",
      " 1   Platform         16715 non-null  object \n",
      " 2   Year_of_Release  16446 non-null  float64\n",
      " 3   Genre            16713 non-null  object \n",
      " 4   NA_sales         16715 non-null  float64\n",
      " 5   EU_sales         16715 non-null  float64\n",
      " 6   JP_sales         16715 non-null  float64\n",
      " 7   Other_sales      16715 non-null  float64\n",
      " 8   Critic_Score     8137 non-null   float64\n",
      " 9   User_Score       10014 non-null  object \n",
      " 10  Rating           9949 non-null   object \n",
      "dtypes: float64(6), object(5)\n",
      "memory usage: 1.4+ MB\n"
     ]
    }
   ],
   "source": [
    "data_video.info()"
   ]
  },
  {
   "cell_type": "code",
   "execution_count": 5,
   "metadata": {},
   "outputs": [
    {
     "name": "stdout",
     "output_type": "stream",
     "text": [
      "Index(['name', 'platform', 'year_of_release', 'genre', 'na_sales', 'eu_sales',\n",
      "       'jp_sales', 'other_sales', 'critic_score', 'user_score', 'rating'],\n",
      "      dtype='object')\n"
     ]
    }
   ],
   "source": [
    "name_games=[]\n",
    "for game in data_video.columns:\n",
    "    name_lowered=game.lower()\n",
    "    name_games.append(name_lowered)\n",
    "data_video.columns= name_games   \n",
    "print (data_video.columns)  \n",
    "\n"
   ]
  },
  {
   "cell_type": "markdown",
   "metadata": {},
   "source": [
    "Explicacion :Se realiza el cambio a minusculas de los nombres de las columnas"
   ]
  },
  {
   "cell_type": "code",
   "execution_count": 6,
   "metadata": {},
   "outputs": [
    {
     "name": "stdout",
     "output_type": "stream",
     "text": [
      "      name platform  year_of_release genre  na_sales  eu_sales  jp_sales  \\\n",
      "659    NaN      GEN           1993.0   NaN      1.78      0.53      0.00   \n",
      "14244  NaN      GEN           1993.0   NaN      0.00      0.00      0.03   \n",
      "\n",
      "       other_sales  critic_score user_score rating  \n",
      "659           0.08           NaN        NaN    NaN  \n",
      "14244         0.00           NaN        NaN    NaN  \n",
      "      name platform  year_of_release genre  na_sales  eu_sales  jp_sales  \\\n",
      "659    NaN      GEN           1993.0   NaN      1.78      0.53      0.00   \n",
      "14244  NaN      GEN           1993.0   NaN      0.00      0.00      0.03   \n",
      "\n",
      "       other_sales  critic_score user_score rating  \n",
      "659           0.08           NaN        NaN    NaN  \n",
      "14244         0.00           NaN        NaN    NaN  \n",
      "                           name platform  year_of_release     genre  na_sales  \\\n",
      "183             Madden NFL 2004      PS2              NaN    Sports      4.26   \n",
      "377            FIFA Soccer 2004      PS2              NaN    Sports      0.59   \n",
      "456  LEGO Batman: The Videogame      Wii              NaN    Action      1.80   \n",
      "475  wwe Smackdown vs. Raw 2006      PS2              NaN  Fighting      1.57   \n",
      "609              Space Invaders     2600              NaN   Shooter      2.36   \n",
      "\n",
      "     eu_sales  jp_sales  other_sales  critic_score user_score rating  \n",
      "183      0.26      0.01         0.71          94.0        8.5      E  \n",
      "377      2.36      0.04         0.51          84.0        6.4      E  \n",
      "456      0.97      0.00         0.29          74.0        7.9   E10+  \n",
      "475      1.02      0.00         0.41           NaN        NaN    NaN  \n",
      "609      0.14      0.00         0.03           NaN        NaN    NaN  \n",
      "                        name platform  year_of_release         genre  \\\n",
      "1          Super Mario Bros.      NES           1985.0      Platform   \n",
      "4   Pokemon Red/Pokemon Blue       GB           1996.0  Role-Playing   \n",
      "5                     Tetris       GB           1989.0        Puzzle   \n",
      "9                  Duck Hunt      NES           1984.0       Shooter   \n",
      "10                Nintendogs       DS           2005.0    Simulation   \n",
      "\n",
      "    na_sales  eu_sales  jp_sales  other_sales  critic_score user_score rating  \n",
      "1      29.08      3.58      6.81         0.77           NaN        NaN    NaN  \n",
      "4      11.27      8.89     10.22         1.00           NaN        NaN    NaN  \n",
      "5      23.20      2.26      4.22         0.58           NaN        NaN    NaN  \n",
      "9      26.93      0.63      0.28         0.47           NaN        NaN    NaN  \n",
      "10      9.05     10.95      1.93         2.74           NaN        NaN    NaN  \n",
      "                        name platform  year_of_release         genre  \\\n",
      "1          Super Mario Bros.      NES           1985.0      Platform   \n",
      "4   Pokemon Red/Pokemon Blue       GB           1996.0  Role-Playing   \n",
      "5                     Tetris       GB           1989.0        Puzzle   \n",
      "9                  Duck Hunt      NES           1984.0       Shooter   \n",
      "10                Nintendogs       DS           2005.0    Simulation   \n",
      "\n",
      "    na_sales  eu_sales  jp_sales  other_sales  critic_score user_score rating  \n",
      "1      29.08      3.58      6.81         0.77           NaN        NaN    NaN  \n",
      "4      11.27      8.89     10.22         1.00           NaN        NaN    NaN  \n",
      "5      23.20      2.26      4.22         0.58           NaN        NaN    NaN  \n",
      "9      26.93      0.63      0.28         0.47           NaN        NaN    NaN  \n",
      "10      9.05     10.95      1.93         2.74           NaN        NaN    NaN  \n"
     ]
    }
   ],
   "source": [
    "print(data_video[data_video['name'].isna()])\n",
    "print(data_video[data_video['genre'].isna()])\n",
    "print(data_video[data_video['year_of_release'].isna()].head(5))\n",
    "print(data_video[data_video['rating'].isna()].head(5))\n",
    "print(data_video[data_video['critic_score'].isna()].head(5))\n"
   ]
  },
  {
   "cell_type": "markdown",
   "metadata": {},
   "source": [
    "Explicacion:En este paso validamos los datos ausentes, para determinar el paso a seguri para que no se afecte el analisis de datos"
   ]
  },
  {
   "cell_type": "code",
   "execution_count": 7,
   "metadata": {},
   "outputs": [],
   "source": [
    "data_video['name']=data_video['name'].fillna('uknown')\n",
    "data_video['genre']=data_video['genre'].fillna('uknown')\n",
    "data_video['critic_score']=data_video['critic_score'].fillna(999)\n",
    "data_video['user_score']=data_video['user_score'].fillna(999)\n",
    "data_video['rating']=data_video['rating'].fillna('uknown')\n",
    "\n",
    "\n"
   ]
  },
  {
   "cell_type": "markdown",
   "metadata": {},
   "source": [
    "Conclusion:Los datos ausentes los llenamos conla palabra desconocidos porque no tenemos la informacion y para no alterar los datos"
   ]
  },
  {
   "cell_type": "code",
   "execution_count": 8,
   "metadata": {},
   "outputs": [
    {
     "name": "stdout",
     "output_type": "stream",
     "text": [
      "genre\n",
      "Action          376\n",
      "Adventure       159\n",
      "Fighting         39\n",
      "Misc            449\n",
      "Platform        139\n",
      "Puzzle          211\n",
      "Racing          233\n",
      "Role-Playing     30\n",
      "Shooter          99\n",
      "Simulation      237\n",
      "Sports          413\n",
      "Strategy         39\n",
      "Name: platform, dtype: int64\n"
     ]
    }
   ],
   "source": [
    "new_filter=data_video.query(\"user_score=='tbd'\")\n",
    "new_filter_tbd=new_filter.groupby(['genre'])['platform'].count()\n",
    "print(new_filter_tbd.head(20))"
   ]
  },
  {
   "cell_type": "markdown",
   "metadata": {},
   "source": [
    "Explicacion:Se filtro por cada genero para identificar cuales tienen tbd, a determinar"
   ]
  },
  {
   "cell_type": "code",
   "execution_count": 9,
   "metadata": {},
   "outputs": [
    {
     "name": "stdout",
     "output_type": "stream",
     "text": [
      "<class 'pandas.core.frame.DataFrame'>\n",
      "RangeIndex: 16715 entries, 0 to 16714\n",
      "Data columns (total 12 columns):\n",
      " #   Column           Non-Null Count  Dtype  \n",
      "---  ------           --------------  -----  \n",
      " 0   name             16715 non-null  object \n",
      " 1   platform         16715 non-null  object \n",
      " 2   year_of_release  16446 non-null  float64\n",
      " 3   genre            16715 non-null  object \n",
      " 4   na_sales         16715 non-null  float64\n",
      " 5   eu_sales         16715 non-null  float64\n",
      " 6   jp_sales         16715 non-null  float64\n",
      " 7   other_sales      16715 non-null  float64\n",
      " 8   critic_score     16715 non-null  float64\n",
      " 9   user_score       16715 non-null  object \n",
      " 10  rating           16715 non-null  object \n",
      " 11  ventas_totales   16715 non-null  float64\n",
      "dtypes: float64(7), object(5)\n",
      "memory usage: 1.5+ MB\n",
      "None\n"
     ]
    }
   ],
   "source": [
    "data_video['ventas_totales']=data_video['na_sales']+ data_video['eu_sales']+data_video['jp_sales']+ data_video['other_sales']\n",
    "print(data_video.info())"
   ]
  },
  {
   "cell_type": "markdown",
   "metadata": {},
   "source": [
    "Comentarios :Se ajusta la columna con valores ausentes en 'critic_score' "
   ]
  },
  {
   "cell_type": "markdown",
   "metadata": {},
   "source": [
    "Se crea la columna ventas totales"
   ]
  },
  {
   "cell_type": "code",
   "execution_count": 10,
   "metadata": {},
   "outputs": [
    {
     "name": "stdout",
     "output_type": "stream",
     "text": [
      "    year_of_release  platform\n",
      "0            2016.0       502\n",
      "1            2015.0       606\n",
      "2            2014.0       581\n",
      "3            2013.0       544\n",
      "4            2012.0       653\n",
      "5            2011.0      1136\n",
      "6            2010.0      1255\n",
      "7            2009.0      1426\n",
      "8            2008.0      1427\n",
      "9            2007.0      1197\n",
      "10           2006.0      1006\n",
      "11           2005.0       939\n",
      "12           2004.0       762\n",
      "13           2003.0       775\n",
      "14           2002.0       829\n",
      "15           2001.0       482\n",
      "16           2000.0       350\n",
      "17           1999.0       338\n",
      "18           1998.0       379\n",
      "19           1997.0       289\n",
      "20           1996.0       263\n",
      "21           1995.0       219\n",
      "22           1994.0       121\n",
      "23           1993.0        62\n",
      "24           1992.0        43\n",
      "25           1991.0        41\n",
      "26           1990.0        16\n",
      "27           1989.0        17\n",
      "28           1988.0        15\n",
      "29           1987.0        16\n",
      "30           1986.0        21\n",
      "31           1985.0        14\n",
      "32           1984.0        14\n",
      "33           1983.0        17\n",
      "34           1982.0        36\n",
      "35           1981.0        46\n",
      "36           1980.0         9\n"
     ]
    }
   ],
   "source": [
    "group_year_release=data_video.groupby(['year_of_release'])['platform'].count()\n",
    "group_year_release=group_year_release.reset_index()\n",
    "group_year_release=group_year_release.sort_values(by='year_of_release',ascending=False)\n",
    "print(group_year_release.reset_index(drop=True))\n"
   ]
  },
  {
   "cell_type": "markdown",
   "metadata": {},
   "source": [
    "Explicacion:Se agrupan los juegos que fueron lanzados por years"
   ]
  },
  {
   "cell_type": "code",
   "execution_count": 11,
   "metadata": {},
   "outputs": [
    {
     "name": "stdout",
     "output_type": "stream",
     "text": [
      "  platform  ventas_totales\n",
      "0      PS2         1255.77\n",
      "1     X360          971.42\n",
      "2      PS3          939.65\n",
      "3      Wii          907.51\n",
      "4       DS          806.12\n",
      "5       PS          730.86\n",
      "6      GBA          317.85\n",
      "7      PS4          314.14\n",
      "8      PSP          294.05\n",
      "9       PC          259.52\n"
     ]
    }
   ],
   "source": [
    "sales_platform= data_video.groupby(['platform'])['ventas_totales'].sum()\n",
    "sales_platform=sales_platform.sort_values(ascending=False)\n",
    "total_sales_platform=sales_platform.iloc[0:10]\n",
    "total_sales_platform=total_sales_platform.reset_index()\n",
    "print(total_sales_platform.head(10))"
   ]
  },
  {
   "cell_type": "markdown",
   "metadata": {},
   "source": [
    "Explicacion:Se validaron las 10 plataformas con mayores ventas en la historia."
   ]
  },
  {
   "cell_type": "code",
   "execution_count": 12,
   "metadata": {},
   "outputs": [
    {
     "name": "stdout",
     "output_type": "stream",
     "text": [
      "   platform  year_of_release  ventas_totales_y\n",
      "0       PS2           2000.0             39.17\n",
      "1       PS2           2001.0            166.43\n",
      "2       PS2           2002.0            205.38\n",
      "3       PS2           2003.0            184.31\n",
      "4       PS2           2004.0            211.81\n",
      "5       PS2           2005.0            160.66\n",
      "6       PS2           2006.0            103.42\n",
      "7       PS2           2007.0             75.99\n",
      "8       PS2           2008.0             53.90\n",
      "9       PS2           2009.0             26.40\n",
      "10      PS2           2010.0              5.64\n",
      "11      PS2           2011.0              0.45\n",
      "12     X360           2005.0              8.25\n",
      "13     X360           2006.0             51.62\n",
      "14     X360           2007.0             95.41\n",
      "15     X360           2008.0            135.26\n",
      "16     X360           2009.0            120.29\n",
      "17     X360           2010.0            170.03\n",
      "18     X360           2011.0            143.84\n",
      "19     X360           2012.0             99.74\n"
     ]
    }
   ],
   "source": [
    "sales_platform_year=data_video.groupby(['year_of_release','platform',])['ventas_totales'].sum()\n",
    "sales_platform_year=sales_platform_year.reset_index()\n",
    "new_sales_year=pd.merge(total_sales_platform,sales_platform_year,on=(['platform']),how='left')\n",
    "platform_total_year=new_sales_year.drop('ventas_totales_x', axis='columns')\n",
    "print(platform_total_year.head(20))\n"
   ]
  },
  {
   "cell_type": "markdown",
   "metadata": {},
   "source": [
    "Explicacion:Se arrojaron los datos de las ventas de las plataformas con mayor desempeno por year"
   ]
  },
  {
   "cell_type": "code",
   "execution_count": 13,
   "metadata": {},
   "outputs": [
    {
     "name": "stdout",
     "output_type": "stream",
     "text": [
      "   platform  year_of_release_first  year_of_release_last  year_vigencia\n",
      "0        PC                 1985.0                2016.0           31.0\n",
      "1        DS                 1985.0                2013.0           28.0\n",
      "2        GB                 1988.0                2001.0           13.0\n",
      "3      X360                 2005.0                2016.0           11.0\n",
      "4       PSP                 2004.0                2015.0           11.0\n",
      "5       PS2                 2000.0                2011.0           11.0\n",
      "6       NES                 1983.0                1994.0           11.0\n",
      "7        DC                 1998.0                2008.0           10.0\n",
      "8       Wii                 2006.0                2016.0           10.0\n",
      "9       PS3                 2006.0                2016.0           10.0\n",
      "10     2600                 1980.0                1989.0            9.0\n",
      "11     SNES                 1990.0                1999.0            9.0\n",
      "12       PS                 1994.0                2003.0            9.0\n",
      "13       XB                 2000.0                2008.0            8.0\n",
      "14      GBA                 2000.0                2007.0            7.0\n",
      "15       GC                 2001.0                2007.0            6.0\n",
      "16      N64                 1996.0                2002.0            6.0\n",
      "17      3DS                 2011.0                2016.0            5.0\n",
      "18      PSV                 2011.0                2016.0            5.0\n",
      "19      SAT                 1994.0                1999.0            5.0\n",
      "20     WiiU                 2012.0                2016.0            4.0\n",
      "21      GEN                 1990.0                1994.0            4.0\n",
      "22       NG                 1993.0                1996.0            3.0\n",
      "23     XOne                 2013.0                2016.0            3.0\n",
      "24      PS4                 2013.0                2016.0            3.0\n",
      "25       WS                 1999.0                2001.0            2.0\n",
      "26      3DO                 1994.0                1995.0            1.0\n",
      "27      SCD                 1993.0                1994.0            1.0\n",
      "28     TG16                 1995.0                1995.0            0.0\n",
      "29     PCFX                 1996.0                1996.0            0.0\n",
      "30       GG                 1992.0                1992.0            0.0\n"
     ]
    }
   ],
   "source": [
    "fecha_inicio=data_video.groupby(['platform'])['year_of_release'].min()\n",
    "fecha_inicio=fecha_inicio.reset_index()\n",
    "ultimo_lanzamiento=data_video.groupby(['platform'])['year_of_release'].max()\n",
    "ultimo_lanzamiento=ultimo_lanzamiento.reset_index()\n",
    "year_ultimate=pd.merge(fecha_inicio,ultimo_lanzamiento,on='platform',suffixes=['_first', '_last'])\n",
    "year_ultimate['year_vigencia']=year_ultimate['year_of_release_last']-year_ultimate['year_of_release_first']\n",
    "vigencia_year_ultimate=year_ultimate.sort_values(by='year_vigencia',ascending=False)\n",
    "vigencia_year_ultimate= vigencia_year_ultimate.reset_index(drop=True)\n",
    "print(vigencia_year_ultimate)\n"
   ]
  },
  {
   "cell_type": "markdown",
   "metadata": {},
   "source": [
    "Explicacion:Verificamos la fecha de vigencia con la que contaba la plataforma y el periodo en el que fueron vendidas"
   ]
  },
  {
   "cell_type": "code",
   "execution_count": 14,
   "metadata": {},
   "outputs": [
    {
     "name": "stdout",
     "output_type": "stream",
     "text": [
      "   platform  year_of_release_last  year_vigencia  ventas_totales\n",
      "0       PS2                2011.0           11.0         1255.77\n",
      "1      X360                2016.0           11.0          971.42\n",
      "2       PS3                2016.0           10.0          939.65\n",
      "3       Wii                2016.0           10.0          907.51\n",
      "4        DS                2013.0           28.0          806.12\n",
      "5        PS                2003.0            9.0          730.86\n",
      "6       GBA                2007.0            7.0          317.85\n",
      "7       PS4                2016.0            3.0          314.14\n",
      "8       PSP                2015.0           11.0          294.05\n",
      "9        PC                2016.0           31.0          259.52\n",
      "10      3DS                2016.0            5.0          259.00\n",
      "11       XB                2008.0            8.0          257.74\n",
      "12       GB                2001.0           13.0          255.46\n",
      "13      NES                1994.0           11.0          251.05\n",
      "14      N64                2002.0            6.0          218.68\n",
      "15     SNES                1999.0            9.0          200.04\n",
      "16       GC                2007.0            6.0          198.93\n",
      "17     XOne                2016.0            3.0          159.32\n",
      "18     2600                1989.0            9.0           96.98\n",
      "19     WiiU                2016.0            4.0           82.19\n",
      "20      PSV                2016.0            5.0           54.07\n",
      "21      SAT                1999.0            5.0           33.59\n",
      "22      GEN                1994.0            4.0           30.77\n",
      "23       DC                2008.0           10.0           15.95\n",
      "24      SCD                1994.0            1.0            1.86\n",
      "25       NG                1996.0            3.0            1.44\n",
      "26       WS                2001.0            2.0            1.42\n",
      "27     TG16                1995.0            0.0            0.16\n",
      "28      3DO                1995.0            1.0            0.10\n",
      "29       GG                1992.0            0.0            0.04\n",
      "30     PCFX                1996.0            0.0            0.03\n"
     ]
    }
   ],
   "source": [
    "ultimate_sales_platform=pd.merge(vigencia_year_ultimate,sales_platform,on='platform')\n",
    "sales_platform_last=ultimate_sales_platform.sort_values(by='ventas_totales',ascending=False)\n",
    "sales_platform_last=sales_platform_last.reset_index(drop=True)\n",
    "columns_platform_sales_vigencia=['platform','year_of_release_last','year_vigencia','ventas_totales']\n",
    "platform_sales_last_vigencia=sales_platform_last[columns_platform_sales_vigencia]\n",
    "print(platform_sales_last_vigencia)\n"
   ]
  },
  {
   "cell_type": "markdown",
   "metadata": {},
   "source": [
    "Explicacion:De las plataformas mas vendidas se analizo su vigencia"
   ]
  },
  {
   "cell_type": "code",
   "execution_count": 15,
   "metadata": {},
   "outputs": [
    {
     "name": "stdout",
     "output_type": "stream",
     "text": [
      "    platform  year_of_release  ventas_totales\n",
      "237     XOne           2016.0           26.15\n",
      "224     X360           2016.0            1.52\n",
      "212     WiiU           2016.0            4.60\n",
      "207      Wii           2016.0            0.18\n",
      "156      PS4           2016.0           69.25\n",
      "17       3DS           2016.0           15.14\n",
      "152      PS3           2016.0            3.60\n",
      "174      PSV           2016.0            4.25\n",
      "118       PC           2016.0            5.25\n",
      "211     WiiU           2015.0           16.35\n",
      "206      Wii           2015.0            1.14\n",
      "16       3DS           2015.0           27.78\n",
      "173      PSV           2015.0            6.25\n",
      "117       PC           2015.0            8.52\n",
      "151      PS3           2015.0           16.82\n",
      "155      PS4           2015.0          118.90\n",
      "168      PSP           2015.0            0.12\n",
      "236     XOne           2015.0           60.14\n",
      "223     X360           2015.0           11.96\n",
      "116       PC           2014.0           13.28\n",
      "150      PS3           2014.0           47.76\n",
      "154      PS4           2014.0          100.00\n",
      "205      Wii           2014.0            3.75\n",
      "167      PSP           2014.0            0.24\n",
      "210     WiiU           2014.0           22.03\n",
      "222     X360           2014.0           34.74\n",
      "172      PSV           2014.0           11.90\n",
      "15       3DS           2014.0           43.76\n",
      "235     XOne           2014.0           54.07\n",
      "204      Wii           2013.0            8.59\n"
     ]
    }
   ],
   "source": [
    "group_year_new=data_video.groupby(['platform','year_of_release'])['ventas_totales'].sum()\n",
    "group_year_new=group_year_new.reset_index()\n",
    "print(group_year_new.sort_values(by='year_of_release',ascending=False).head(30))\n"
   ]
  },
  {
   "cell_type": "markdown",
   "metadata": {},
   "source": [
    "Explicacion:De las plataformas que se vendieron, se analiza cuales no se venden actualmente"
   ]
  },
  {
   "cell_type": "code",
   "execution_count": 16,
   "metadata": {},
   "outputs": [
    {
     "name": "stdout",
     "output_type": "stream",
     "text": [
      "   platform  year_of_release  ventas_totales\n",
      "0      XOne           2016.0           26.15\n",
      "1       3DS           2016.0           15.14\n",
      "2      X360           2016.0            1.52\n",
      "3      WiiU           2016.0            4.60\n",
      "4       Wii           2016.0            0.18\n",
      "5       PSV           2016.0            4.25\n",
      "6        PC           2016.0            5.25\n",
      "7       PS4           2016.0           69.25\n",
      "8       PS3           2016.0            3.60\n",
      "9       PSP           2015.0            0.12\n",
      "10       DS           2013.0            1.54\n",
      "11      PS2           2011.0            0.45\n",
      "12       DC           2008.0            0.04\n",
      "13       XB           2008.0            0.18\n",
      "14      GBA           2007.0            3.40\n",
      "15       GC           2007.0            0.27\n",
      "16       PS           2003.0            2.07\n",
      "17      N64           2002.0            0.08\n",
      "18       WS           2001.0            0.28\n",
      "19       GB           2001.0            9.24\n",
      "20      SAT           1999.0            0.09\n",
      "21     SNES           1999.0            0.26\n",
      "22     PCFX           1996.0            0.03\n",
      "23       NG           1996.0            0.10\n",
      "24      3DO           1995.0            0.08\n",
      "25     TG16           1995.0            0.16\n",
      "26      NES           1994.0            0.11\n",
      "27      SCD           1994.0            0.36\n",
      "28      GEN           1994.0            8.13\n",
      "29       GG           1992.0            0.04\n",
      "30     2600           1989.0            0.63\n"
     ]
    }
   ],
   "source": [
    "last_group=data_video.groupby(['platform','year_of_release'])['ventas_totales'].sum()\n",
    "last_group=last_group.reset_index()\n",
    "lead_platform=data_video.groupby(['platform'])['year_of_release'].max()\n",
    "lead_platform=lead_platform.reset_index()\n",
    "lead_ultimate_sales=pd.merge(lead_platform,last_group,on=['platform','year_of_release'],how='left')\n",
    "lead_sales_platform_last=lead_ultimate_sales.sort_values(by='year_of_release',ascending=False)\n",
    "print(lead_sales_platform_last.reset_index(drop=True))\n"
   ]
  },
  {
   "cell_type": "markdown",
   "metadata": {},
   "source": [
    "Explicacion:Se revisaron los lideres en ventasd en los ultimos years"
   ]
  },
  {
   "cell_type": "code",
   "execution_count": 17,
   "metadata": {},
   "outputs": [
    {
     "name": "stdout",
     "output_type": "stream",
     "text": [
      "   platform  year_of_release  ventas_totales\n",
      "0      XOne           2016.0           26.15\n",
      "1      X360           2016.0            1.52\n",
      "2      WiiU           2016.0            4.60\n",
      "3       PS4           2016.0           69.25\n",
      "4        PC           2016.0            5.25\n",
      "5       Wii           2016.0            0.18\n",
      "6       PS3           2016.0            3.60\n",
      "7       3DS           2016.0           15.14\n",
      "8       PSV           2016.0            4.25\n",
      "9       Wii           2015.0            1.14\n",
      "10     XOne           2015.0           60.14\n",
      "11      PS3           2015.0           16.82\n",
      "12      PSP           2015.0            0.12\n",
      "13       PC           2015.0            8.52\n",
      "14      3DS           2015.0           27.78\n",
      "15      PSV           2015.0            6.25\n",
      "16      PS4           2015.0          118.90\n",
      "17     WiiU           2015.0           16.35\n",
      "18     X360           2015.0           11.96\n",
      "19      PSV           2014.0           11.90\n",
      "20      Wii           2014.0            3.75\n",
      "21      PSP           2014.0            0.24\n",
      "22      PS4           2014.0          100.00\n",
      "23     WiiU           2014.0           22.03\n",
      "24      PS3           2014.0           47.76\n",
      "25      3DS           2014.0           43.76\n",
      "26     XOne           2014.0           54.07\n",
      "27       PC           2014.0           13.28\n",
      "28     X360           2014.0           34.74\n",
      "29       PC           2013.0           12.38\n",
      "30      3DS           2013.0           56.57\n",
      "31      PSV           2013.0           10.59\n",
      "32     XOne           2013.0           18.96\n",
      "33       DS           2013.0            1.54\n",
      "34      PSP           2013.0            3.14\n",
      "35      PS3           2013.0          113.25\n",
      "36     WiiU           2013.0           21.65\n",
      "37     X360           2013.0           88.58\n",
      "38      PS4           2013.0           25.99\n",
      "39      Wii           2013.0            8.59\n",
      "40     WiiU           2012.0           17.56\n",
      "41     X360           2012.0           99.74\n",
      "42      Wii           2012.0           21.71\n",
      "43      PSP           2012.0            7.69\n",
      "44      PSV           2012.0           16.19\n",
      "45      3DS           2012.0           51.36\n",
      "46       DS           2012.0           11.01\n",
      "47      PS3           2012.0          107.36\n",
      "48       PC           2012.0           23.22\n",
      "49      Wii           2011.0           59.65\n",
      "50     X360           2011.0          143.84\n",
      "51       DS           2011.0           26.18\n",
      "52       PC           2011.0           35.03\n",
      "53      PS2           2011.0            0.45\n",
      "54      3DS           2011.0           63.20\n"
     ]
    }
   ],
   "source": [
    "filter_year=data_video.query('year_of_release>=2010')\n",
    "group_year_new=filter_year.groupby(['platform','year_of_release'])['ventas_totales'].sum()\n",
    "group_year_new=group_year_new.reset_index()\n",
    "group_year_new=group_year_new.sort_values(by='year_of_release',ascending=False)\n",
    "print(group_year_new.reset_index(drop=True).head(55))"
   ]
  },
  {
   "cell_type": "markdown",
   "metadata": {},
   "source": [
    "Explicacion:de las plataformas vendidas se utilizan los datos para sacar un pronostico de ventas para el 2017"
   ]
  },
  {
   "cell_type": "code",
   "execution_count": 18,
   "metadata": {},
   "outputs": [
    {
     "name": "stdout",
     "output_type": "stream",
     "text": [
      "                                             name platform  year_of_release  \\\n",
      "5345    High School Musical 3: Senior Year DANCE!      PS2           2008.0   \n",
      "5070                           The Golden Compass      PSP              NaN   \n",
      "11173                           Petz: Saddle Club      PSP           2009.0   \n",
      "16254              Smiley World: Island Challenge       DS           2009.0   \n",
      "5540   Shin Nippon Pro Wrestling: Toukon Retsuden       PS           1995.0   \n",
      "\n",
      "            genre  na_sales  eu_sales  jp_sales  other_sales  critic_score  \\\n",
      "5345         Misc      0.17      0.13       0.0         0.04         999.0   \n",
      "5070       Action      0.11      0.16       0.0         0.10          28.0   \n",
      "11173  Simulation      0.08      0.00       0.0         0.01         999.0   \n",
      "16254      Puzzle      0.01      0.00       0.0         0.00         999.0   \n",
      "5540     Fighting      0.00      0.00       0.3         0.02         999.0   \n",
      "\n",
      "      user_score  rating  ventas_totales game_category  \n",
      "5345         999  uknown            0.34        modern  \n",
      "5070         4.1    E10+            0.37       unknown  \n",
      "11173        tbd       E            0.09        modern  \n",
      "16254        tbd       E            0.01        modern  \n",
      "5540         999  uknown            0.32         retro  \n"
     ]
    }
   ],
   "source": [
    "def era_sales(sales):\n",
    "    year = sales['year_of_release']\n",
    "    na_sales = sales['na_sales']\n",
    "    eu_sales = sales['eu_sales']\n",
    "    jp_sales = sales['jp_sales']\n",
    "    other_sales=sales['other_sales']\n",
    "       \n",
    "    total_sales = na_sales + eu_sales + jp_sales + other_sales\n",
    "    \n",
    "    year = sales['year_of_release']\n",
    "    if year < 2005:\n",
    "        if total_sales < 1:\n",
    "            return 'retro'\n",
    "        else:\n",
    "            return 'classic'\n",
    "    if year < 2012:\n",
    "        if total_sales < 1:\n",
    "            return 'modern'\n",
    "        else:\n",
    "            return 'classic'\n",
    "    if year >= 2012:\n",
    "        if total_sales < 1:\n",
    "            return 'recent'\n",
    "        else:\n",
    "             return 'big hit'\n",
    "    else:\n",
    "        return 'unknown'        \n",
    "data_video['game_category'] = data_video.apply(era_sales, axis=1)\n",
    "\n",
    "  \n",
    "print(data_video.sample(5, random_state=321))"
   ]
  },
  {
   "cell_type": "markdown",
   "metadata": {},
   "source": [
    "Explicacion: Se categorizo de acuerdo al nivel de ventas y al year por lanzamiento por juegos."
   ]
  },
  {
   "cell_type": "code",
   "execution_count": 19,
   "metadata": {},
   "outputs": [
    {
     "data": {
      "text/plain": [
       "<AxesSubplot:xlabel='ventas_totales'>"
      ]
     },
     "execution_count": 19,
     "metadata": {},
     "output_type": "execute_result"
    },
    {
     "data": {
      "image/png": "[encoded data removed]",
      "text/plain": [
       "<Figure size 432x288 with 1 Axes>"
      ]
     },
     "metadata": {
      "needs_background": "light"
     },
     "output_type": "display_data"
    }
   ],
   "source": [
    "box_platform=data_video.groupby(['platform'])['ventas_totales'].mean()\n",
    "sns.boxplot(x=box_platform)\n"
   ]
  },
  {
   "cell_type": "markdown",
   "metadata": {},
   "source": [
    "Explicacion:Los datos tienen una media de 0.4, y un valor minimo de 0.3 y un valor maximo de 0.7 y unos valorres atipicos de 2.5"
   ]
  },
  {
   "cell_type": "code",
   "execution_count": 20,
   "metadata": {},
   "outputs": [
    {
     "name": "stdout",
     "output_type": "stream",
     "text": [
      "                 year_of_release  na_sales  eu_sales  jp_sales  other_sales  \\\n",
      "year_of_release         1.000000 -0.053523  0.020449  0.105950     0.002588   \n",
      "na_sales               -0.053523  1.000000  0.826092  0.376572     0.872488   \n",
      "eu_sales                0.020449  0.826092  1.000000  0.417229     0.977823   \n",
      "jp_sales                0.105950  0.376572  0.417229  1.000000     0.416338   \n",
      "other_sales             0.002588  0.872488  0.977823  0.416338     1.000000   \n",
      "critic_score           -0.001309  0.454512  0.380806  0.204089     0.395003   \n",
      "ventas_totales         -0.003547  0.940368  0.961786  0.492586     0.975447   \n",
      "\n",
      "                 critic_score  ventas_totales  \n",
      "year_of_release     -0.001309       -0.003547  \n",
      "na_sales             0.454512        0.940368  \n",
      "eu_sales             0.380806        0.961786  \n",
      "jp_sales             0.204089        0.492586  \n",
      "other_sales          0.395003        0.975447  \n",
      "critic_score         1.000000        0.432432  \n",
      "ventas_totales       0.432432        1.000000  \n",
      "0.4324315685642066\n"
     ]
    },
    {
     "data": {
      "image/png": "[encoded data removed]",
      "text/plain": [
       "<Figure size 432x288 with 1 Axes>"
      ]
     },
     "metadata": {
      "needs_background": "light"
     },
     "output_type": "display_data"
    }
   ],
   "source": [
    "filter_game=data_video.query(\"platform=='PS3'and critic_score!=999\")\n",
    "correlation=filter_game.corr()\n",
    "print(correlation)\n",
    "corre_sales=correlation.loc['critic_score','ventas_totales']\n",
    "print(corre_sales)\n",
    "filter_game.plot(x='critic_score', y='ventas_totales', kind='scatter')\n",
    "plt.show()\n"
   ]
  },
  {
   "cell_type": "markdown",
   "metadata": {},
   "source": [
    "Explicacion: Se verifico la correlacion de PSP3 vs el nivel de ventas, se determina que a medida que las plataformas tengan mayores puntajes las ventas crecen proporcionalmente."
   ]
  },
  {
   "cell_type": "code",
   "execution_count": 136,
   "metadata": {},
   "outputs": [
    {
     "data": {
      "image/png": "[encoded data removed]",
      "text/plain": [
       "<Figure size 720x576 with 1 Axes>"
      ]
     },
     "metadata": {
      "needs_background": "light"
     },
     "output_type": "display_data"
    }
   ],
   "source": [
    "filter_game=data_video.query(\"platform=='PS3'\")\n",
    "critic_sales=filter_game.query('critic_score>=95 and critic_score!=999')\n",
    "filter_critic_sales=critic_sales.groupby(['name','platform','critic_score'])['ventas_totales'].sum()\n",
    "filter_critic_sales=filter_critic_sales.reset_index()\n",
    "comparative_game=data_video.merge(filter_critic_sales,on='name',how='right')\n",
    "comparative_plataform_game=comparative_game.groupby(['name','platform_x'])['ventas_totales_x'].sum()\n",
    "comparative_plataform_game.plot(kind='bar',x=['name','platform_x'],y=['ventas_totales_x'],figsize=[10,8],xlabel=['Games_Platform'],title='Comparatives_Games',color=['green','gray','orange'],ylabel=[\"ventas_totales\"])\n",
    "plt.show()\n",
    "\n"
   ]
  },
  {
   "cell_type": "markdown",
   "metadata": {},
   "source": [
    "Explicacion:Se hace una compracion de las ventas en las diferentes plataformas para los juegos conmejor calificacion en PS3"
   ]
  },
  {
   "cell_type": "code",
   "execution_count": 137,
   "metadata": {},
   "outputs": [
    {
     "name": "stdout",
     "output_type": "stream",
     "text": [
      "           genre  ventas_totales\n",
      "0         Action         1744.17\n",
      "1         Sports         1331.27\n",
      "2        Shooter         1052.45\n",
      "3   Role-Playing          934.56\n",
      "4       Platform          827.77\n",
      "5           Misc          802.51\n",
      "6         Racing          728.67\n",
      "7       Fighting          447.53\n",
      "8     Simulation          389.97\n",
      "9         Puzzle          242.57\n",
      "10     Adventure          237.59\n",
      "11      Strategy          174.23\n",
      "12        uknown            2.42\n"
     ]
    }
   ],
   "source": [
    "games_genre=data_video.groupby(['genre'])['ventas_totales'].sum()\n",
    "filter_game_genre=games_genre.reset_index()\n",
    "sales_game_genre=filter_game_genre.sort_values(by='ventas_totales',ascending=False)\n",
    "print(sales_game_genre.reset_index(drop=True))"
   ]
  },
  {
   "cell_type": "markdown",
   "metadata": {},
   "source": [
    "Explicacion:Se analizan cuales son los generos con mayores ventas, el de accion es el mas vendido"
   ]
  },
  {
   "cell_type": "code",
   "execution_count": 138,
   "metadata": {},
   "outputs": [
    {
     "data": {
      "image/png": "[encoded data removed]",
      "text/plain": [
       "<Figure size 720x576 with 1 Axes>"
      ]
     },
     "metadata": {
      "needs_background": "light"
     },
     "output_type": "display_data"
    }
   ],
   "source": [
    "region_platform_na=data_video.groupby('platform')\n",
    "sales_region_na={'na_sales':'sum'}\n",
    "sales_region_platform_na=region_platform_na.agg(sales_region_na)\n",
    "sales_region_platform_na=sales_region_platform_na.reset_index()\n",
    "sales_region_platform_na=sales_region_platform_na.sort_values(by='na_sales',ascending=False)\n",
    "sales_region_platform_na=sales_region_platform_na.reset_index(drop=True)\n",
    "principales_platform_na=sales_region_platform_na.iloc[0:5]\n",
    "region_platform_eu=data_video.groupby('platform')\n",
    "sales_region_eu={'eu_sales':'sum'}\n",
    "sales_region_platform_eu=region_platform_eu.agg(sales_region_eu)\n",
    "sales_region_platform_eu=sales_region_platform_eu.reset_index()\n",
    "sales_region_platform_eu=sales_region_platform_eu.sort_values(by='eu_sales',ascending=False)\n",
    "sales_region_platform_eu=sales_region_platform_eu.reset_index(drop=True)\n",
    "principales_platform_eu=sales_region_platform_eu.iloc[0:5]\n",
    "region_platform_jp=data_video.groupby('platform')\n",
    "sales_region_jp={'jp_sales':'sum'}\n",
    "sales_region_platform_jp=region_platform_jp.agg(sales_region_jp)\n",
    "sales_region_platform_jp=sales_region_platform_jp.reset_index()\n",
    "sales_region_platform_jp=sales_region_platform_jp.sort_values(by='jp_sales',ascending=False)\n",
    "sales_region_platform_jp=sales_region_platform_jp.reset_index(drop=True)\n",
    "principales_platform_jp=sales_region_platform_jp.iloc[0:5]\n",
    "platform_sales_principales=pd.merge(principales_platform_na,principales_platform_eu,on='platform',how='outer')\n",
    "platform_principales_region=pd.merge(platform_sales_principales,principales_platform_jp,on='platform',how='outer')\n",
    "\n",
    "platform_principales_region.plot(kind='bar',x='platform',y=['na_sales','eu_sales','jp_sales'],figsize=[10,8],title='Sales_Platform_Region',xlabel='Platform',ylabel='Sales',color=['green','gray','orange'])\n",
    "plt.show()\n"
   ]
  },
  {
   "cell_type": "markdown",
   "metadata": {},
   "source": [
    "Explicacion:Se analizan las plataformas mas vendidas en cada region y se grafica un comparativo"
   ]
  },
  {
   "cell_type": "code",
   "execution_count": 139,
   "metadata": {},
   "outputs": [
    {
     "name": "stdout",
     "output_type": "stream",
     "text": [
      "          na_sales  eu_sales  jp_sales\n",
      "na_sales  1.000000 -0.250839      -1.0\n",
      "eu_sales -0.250839  1.000000      -1.0\n",
      "jp_sales -1.000000 -1.000000       1.0\n"
     ]
    }
   ],
   "source": [
    "print(platform_principales_region.corr())\n"
   ]
  },
  {
   "cell_type": "markdown",
   "metadata": {},
   "source": [
    "Explicacion:el comportamiento de las ventas es diferente en cada region, no presenta correlacion"
   ]
  },
  {
   "cell_type": "code",
   "execution_count": 140,
   "metadata": {},
   "outputs": [
    {
     "data": {
      "image/png": "[encoded data removed]",
      "text/plain": [
       "<Figure size 720x576 with 1 Axes>"
      ]
     },
     "metadata": {
      "needs_background": "light"
     },
     "output_type": "display_data"
    }
   ],
   "source": [
    "region_genre_na=data_video.groupby('genre')\n",
    "sales_genre_na={'na_sales':'sum'}\n",
    "sales_genre_platform_na=region_genre_na.agg(sales_genre_na)\n",
    "sales_genre_platform_na=sales_genre_platform_na.reset_index()\n",
    "sales_genre_platform_na=sales_genre_platform_na.sort_values(by='na_sales',ascending=False)\n",
    "sales_genre_platform_na=sales_genre_platform_na.reset_index(drop=True)\n",
    "principales_genre_na=sales_genre_platform_na.iloc[0:5]\n",
    "region_genre_eu=data_video.groupby('genre')\n",
    "sales_genre_eu={'eu_sales':'sum'}\n",
    "sales_genre_platform_eu=region_genre_eu.agg(sales_genre_eu)\n",
    "sales_genre_platform_eu=sales_genre_platform_eu.reset_index()\n",
    "sales_genre_platform_eu=sales_genre_platform_eu.sort_values(by='eu_sales',ascending=False)\n",
    "sales_genre_platform_eu=sales_genre_platform_eu.reset_index(drop=True)\n",
    "principales_genre_eu=sales_genre_platform_eu.iloc[0:5]\n",
    "region_genre_jp=data_video.groupby('genre')\n",
    "sales_genre_jp={'jp_sales':'sum'}\n",
    "sales_genre_platform_jp=region_genre_jp.agg(sales_genre_jp)\n",
    "sales_genre_platform_jp=sales_genre_platform_jp.reset_index()\n",
    "sales_genre_platform_jp=sales_genre_platform_jp.sort_values(by='jp_sales',ascending=False)\n",
    "sales_genre_platform_jp=sales_genre_platform_jp.reset_index(drop=True)\n",
    "principales_genre_jp=sales_genre_platform_jp.iloc[0:5]\n",
    "genre_sales_principales=pd.merge(principales_genre_na,principales_genre_eu,on='genre',how='outer')\n",
    "genre_principales_region=pd.merge(genre_sales_principales,principales_genre_jp,on='genre',how='outer')\n",
    "\n",
    "genre_principales_region.plot(kind='bar',x='genre',y=['na_sales','eu_sales','jp_sales'],figsize=[10,8],title='Sales_Genre_Region_',xlabel='Genre',ylabel='Sales',color=['green','gray','orange'])\n",
    "plt.show()\n",
    "\n"
   ]
  },
  {
   "cell_type": "markdown",
   "metadata": {},
   "source": [
    "Explicacion:Se obtienes los generos mas vendidos por region."
   ]
  },
  {
   "cell_type": "code",
   "execution_count": 141,
   "metadata": {},
   "outputs": [
    {
     "name": "stdout",
     "output_type": "stream",
     "text": [
      "   rating  na_sales  eu_sales  jp_sales\n",
      "0      AO      1.26      0.61      0.00\n",
      "1       E   1292.99    710.25    198.11\n",
      "2    E10+    353.32    188.52     40.20\n",
      "3      EC      1.53      0.11      0.00\n",
      "4     K-A      2.56      0.27      1.46\n",
      "5       M    748.48    483.97     64.24\n",
      "6      RP      0.00      0.08      0.00\n",
      "7       T    759.75    427.03    151.40\n",
      "8  uknown   1242.46    613.83    841.96\n"
     ]
    }
   ],
   "source": [
    "clasification_sales_na=data_video.groupby(['rating'])['na_sales'].sum()\n",
    "clasification_sales_na=clasification_sales_na.reset_index()\n",
    "clasification_sales_eu=data_video.groupby(['rating'])['eu_sales'].sum()\n",
    "clasification_sales_eu=clasification_sales_eu.reset_index()\n",
    "clasification_sales_jp=data_video.groupby(['rating'])['jp_sales'].sum()\n",
    "clasification_sales_jp=clasification_sales_jp.reset_index()\n",
    "clasification_sales_principales=pd.merge(clasification_sales_na,clasification_sales_eu,on='rating',how='outer')\n",
    "clasification_principales_region=pd.merge(clasification_sales_principales,clasification_sales_jp,on='rating',how='outer')\n",
    "print(clasification_principales_region)\n"
   ]
  },
  {
   "cell_type": "markdown",
   "metadata": {},
   "source": [
    "Explicacion:La calificacion tiene correlacion en el nivel de ventas"
   ]
  },
  {
   "cell_type": "code",
   "execution_count": 142,
   "metadata": {},
   "outputs": [
    {
     "name": "stdout",
     "output_type": "stream",
     "text": [
      "valor p: 0.01676445953904435\n",
      "Rechazamos la hipótesis nula\n"
     ]
    }
   ],
   "source": [
    "platform_qualify_xbox=data_video.query(\"platform=='XOne' and critic_score>=1 and critic_score!=999\")\n",
    "platform_qualify_pc=data_video.query(\"platform=='PC' and critic_score>=1 and critic_score!=999\")\n",
    "alpha=0.05\n",
    "\n",
    "\n",
    "result=st.ttest_ind(platform_qualify_xbox['critic_score'],platform_qualify_pc['critic_score'],equal_var=False)\n",
    "print('valor p:',result.pvalue)\n",
    "\n",
    "if (result.pvalue<alpha):\n",
    "    print('Rechazamos la hipótesis nula')\n",
    "else:\n",
    "    print('No podemos rechazar la hipótesis nula')\n",
    "\n"
   ]
  },
  {
   "cell_type": "markdown",
   "metadata": {},
   "source": [
    "Se rechaza la hipotesis nula lo que signifa que la calificacion para XOne y PC no son iguales"
   ]
  },
  {
   "cell_type": "markdown",
   "metadata": {},
   "source": [
    "Conclusion general: Con este analisis pudimos determinar las plataformas mas vendidas,la vigencia de las plataformas, las diferentes ventas por regiones, se pueden llevar a cabo analisis de cuales plataformas se deben vender en cada region, cuales son los generos que mas se venden, lo que podria impactar en las campanasde marketing."
   ]
  }
 ],
 "metadata": {
  "kernelspec": {
   "display_name": "Python 3 (ipykernel)",
   "language": "python",
   "name": "python3"
  },
  "language_info": {
   "codemirror_mode": {
    "name": "ipython",
    "version": 3
   },
   "file_extension": ".py",
   "mimetype": "text/x-python",
   "name": "python",
   "nbconvert_exporter": "python",
   "pygments_lexer": "ipython3",
   "version": "3.9.19"
  },
  "toc": {
   "base_numbering": 1,
   "nav_menu": {},
   "number_sections": true,
   "sideBar": true,
   "skip_h1_title": true,
   "title_cell": "Table of Contents",
   "title_sidebar": "Contents",
   "toc_cell": false,
   "toc_position": {},
   "toc_section_display": true,
   "toc_window_display": false
  }
 },
 "nbformat": 4,
 "nbformat_minor": 2
}
